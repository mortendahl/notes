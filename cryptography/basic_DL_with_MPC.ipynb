{
 "cells": [
  {
   "cell_type": "code",
   "execution_count": 1,
   "metadata": {
    "collapsed": true
   },
   "outputs": [],
   "source": [
    "import random\n",
    "import numpy as np"
   ]
  },
  {
   "cell_type": "markdown",
   "metadata": {},
   "source": [
    "Field parameters\n",
    "=====\n",
    "\n",
    "We shall be operating on fixed precision rational numbers. We shall use a finite prime field identified by `MODULUS` to represent these."
   ]
  },
  {
   "cell_type": "code",
   "execution_count": 2,
   "metadata": {
    "collapsed": false
   },
   "outputs": [],
   "source": [
    "BASE = 10\n",
    "PRECISION_INTEGRAL = 2\n",
    "PRECISION_FRACTIONAL = 6\n",
    "MODULUS = 1094402170831300646699956388099\n",
    "\n",
    "PRECISION = PRECISION_INTEGRAL + PRECISION_FRACTIONAL\n",
    "INVERSE = 1092323901108892006771873170918 # inverse of BASE**FRACTIONAL_PRECISION\n",
    "\n",
    "assert(MODULUS > BASE**(2*PRECISION))\n",
    "assert((INVERSE * BASE**PRECISION_FRACTIONAL) % MODULUS == 1)"
   ]
  },
  {
   "cell_type": "markdown",
   "metadata": {},
   "source": [
    "Fixed-Point Encoding\n",
    "=====\n",
    "\n",
    "We shall be using the fixed-point encoding scheme from [CS'10](https://www1.cs.fau.de/filepool/publications/octavian_securescm/secfp-fc10.pdf), with `e=PRECISION_INTEGRAL` and `f=PRECISION_FRACTIONAL`."
   ]
  },
  {
   "cell_type": "code",
   "execution_count": 3,
   "metadata": {
    "collapsed": false
   },
   "outputs": [
    {
     "name": "stdout",
     "output_type": "stream",
     "text": [
      "encoded: 123456, decoded: 0.123456\n",
      "encoded: 250000, decoded: 0.25\n",
      "encoded: 1094402170831300646699956138099, decoded: -0.25\n"
     ]
    }
   ],
   "source": [
    "def encode(rational):\n",
    "    assert(abs(rational) < BASE**PRECISION_INTEGRAL)\n",
    "    upscaled = int(rational * BASE**PRECISION_FRACTIONAL)\n",
    "    field_encoded = upscaled % MODULUS\n",
    "    return field_encoded\n",
    "\n",
    "def decode(field_encoded):\n",
    "    signed = field_encoded if field_encoded < MODULUS/2 else field_encoded - MODULUS\n",
    "    rational = signed / BASE**PRECISION_FRACTIONAL\n",
    "    return rational\n",
    "\n",
    "x = encode(0.123456789)\n",
    "print(\"encoded: %s, decoded: %s\" % (x, decode(x)))\n",
    "\n",
    "y = encode(1/4)\n",
    "print(\"encoded: %s, decoded: %s\" % (y, decode(y)))\n",
    "\n",
    "z = encode(-0.25)\n",
    "print(\"encoded: %s, decoded: %s\" % (z, decode(z)))"
   ]
  },
  {
   "cell_type": "markdown",
   "metadata": {},
   "source": [
    "Testing\n",
    "-----\n",
    "We are *not* going to use this in the actual computation, but it's useful to get an intuition about the encoding and the operations."
   ]
  },
  {
   "cell_type": "code",
   "execution_count": null,
   "metadata": {
    "collapsed": false
   },
   "outputs": [],
   "source": [
    "def open_add(x, y):\n",
    "    z = (x + y) % MODULUS\n",
    "    return z\n",
    "\n",
    "def open_sub(x, y):\n",
    "    z = (x - y) % MODULUS\n",
    "    return z\n",
    "\n",
    "x = encode(0.12345)\n",
    "y = encode(-0.00345)\n",
    "z = open_add(x, y)\n",
    "print(\"encoded: %s, decoded: %s\" % (z, decode(z)))\n",
    "\n",
    "x = encode(-0.12345)\n",
    "y = encode(-0.00345)\n",
    "z = open_sub(x, y)\n",
    "print(\"encoded: %s, decoded: %s\" % (z, decode(z)))"
   ]
  },
  {
   "cell_type": "code",
   "execution_count": null,
   "metadata": {
    "collapsed": false,
    "scrolled": true
   },
   "outputs": [],
   "source": [
    "def open_truncate(a):\n",
    "    # map to the positive range\n",
    "    b = (a + BASE**(2*PRECISION-1)) % MODULUS\n",
    "    # extract lower digits\n",
    "    b_low = b % BASE**PRECISION_FRACTIONAL\n",
    "    # remove lower digits\n",
    "    c = a - b_low\n",
    "    # remove extra scaling factor\n",
    "    d = (c * INVERSE) % MODULUS\n",
    "    return d\n",
    "\n",
    "def open_mul(x, y):\n",
    "    # result with double precision\n",
    "    w = (x * y) % MODULUS\n",
    "    # result with single precision\n",
    "    v = open_truncate(w)\n",
    "    return v\n",
    "\n",
    "x = encode(-.5)\n",
    "y = encode(-.5)\n",
    "print(\"encoded: %s, decoded: %s\" % (x, decode(x)))\n",
    "\n",
    "z = open_mul(x, y)\n",
    "print(\"encoded: %s, decoded: %s\" % (z, decode(z)))\n",
    "\n",
    "v = open_mul(z, z)\n",
    "print(\"encoded: %s, decoded: %s\" % (v, decode(v)))\n",
    "\n",
    "w = open_mul(v, v)\n",
    "print(\"encoded: %s, decoded: %s\" % (w, decode(w)))"
   ]
  },
  {
   "cell_type": "markdown",
   "metadata": {},
   "source": [
    "Secure Arithmetic\n",
    "====="
   ]
  },
  {
   "cell_type": "code",
   "execution_count": 4,
   "metadata": {
    "collapsed": false
   },
   "outputs": [],
   "source": [
    "KAPPA = 5 # leave room for five digits overflow before leakage\n",
    "\n",
    "assert(MODULUS > BASE**(2*PRECISION + KAPPA))"
   ]
  },
  {
   "cell_type": "code",
   "execution_count": 5,
   "metadata": {
    "collapsed": false
   },
   "outputs": [
    {
     "name": "stdout",
     "output_type": "stream",
     "text": [
      "shared: [726594827352329060357659880166, 378751469946245956291264231604, 1083458044364026276750993664428]\n"
     ]
    }
   ],
   "source": [
    "def share(secret):\n",
    "    first  = random.randrange(MODULUS)\n",
    "    second = random.randrange(MODULUS)\n",
    "    third  = (secret - first - second) % MODULUS\n",
    "    return [first, second, third]\n",
    "\n",
    "def reconstruct(sharing):\n",
    "    return sum(sharing) % MODULUS\n",
    "\n",
    "secret = 5.0\n",
    "encoded = encode(secret)\n",
    "shared = share(encoded)\n",
    "assert(decode(reconstruct(shared)) == secret)\n",
    "\n",
    "print(\"shared: %s\" % shared)"
   ]
  },
  {
   "cell_type": "code",
   "execution_count": 6,
   "metadata": {
    "collapsed": false
   },
   "outputs": [],
   "source": [
    "def secure_add(x, y):\n",
    "    # pair-wise addition (local computation)\n",
    "    return [ (xi + yi) % MODULUS for xi, yi in zip(x, y) ]\n",
    "\n",
    "def secure_sub(x, y):\n",
    "    # pair-wise subtraction (local computation)\n",
    "    return [ (xi - yi) % MODULUS for xi, yi in zip(x, y) ]\n",
    "\n",
    "x = share(encode(.1))\n",
    "y = share(encode(.5))\n",
    "z = secure_add(x, y)\n",
    "assert(decode(reconstruct(z)) == .1 + .5)"
   ]
  },
  {
   "cell_type": "code",
   "execution_count": 7,
   "metadata": {
    "collapsed": false
   },
   "outputs": [],
   "source": [
    "def secure_cmul(x, c):\n",
    "    return [ (xi * c) % MODULUS for xi in x ]\n",
    "\n",
    "def secure_truncate(a):\n",
    "    # map to the positive range\n",
    "    b = secure_add(a, [BASE**(2*PRECISION+1), 0, 0])\n",
    "    # apply mask known only by P0, and reconstruct masked b to P1 or P2\n",
    "    mask = random.randrange(MODULUS) % BASE**(PRECISION + PRECISION_FRACTIONAL + KAPPA)\n",
    "    mask_low = mask % BASE**PRECISION_FRACTIONAL\n",
    "    b_masked = reconstruct(secure_add(b, [mask, 0, 0]))\n",
    "    # extract lower digits\n",
    "    b_masked_low = b_masked % BASE**PRECISION_FRACTIONAL\n",
    "    b_low = secure_sub(share(b_masked_low), share(mask_low))\n",
    "    # remove lower digits\n",
    "    c = secure_sub(a, b_low)\n",
    "    # remove extra scaling factor\n",
    "    d = secure_cmul(c, INVERSE)\n",
    "    return d\n",
    "\n",
    "def secure_mul(x, y):\n",
    "    # local computation\n",
    "    z0 = (x[0]*y[0] + x[0]*y[1] + x[1]*y[0]) % MODULUS\n",
    "    z1 = (x[1]*y[1] + x[1]*y[2] + x[2]*y[1]) % MODULUS\n",
    "    z2 = (x[2]*y[2] + x[2]*y[0] + x[0]*y[2]) % MODULUS\n",
    "    # reshare and distribute (requires communication)\n",
    "    Z = [ share(z0), share(z1), share(z2) ]\n",
    "    w = [ sum(row) % MODULUS for row in zip(*Z) ] # transpose followed by row sum\n",
    "    # truncate\n",
    "    v = secure_truncate(w)\n",
    "    return v\n",
    "\n",
    "x = share(encode(-.5))\n",
    "y = share(encode(-.00025))\n",
    "z = secure_mul(x, y)\n",
    "assert(decode(reconstruct(z)) == (-.5) * (-.00025))"
   ]
  },
  {
   "cell_type": "code",
   "execution_count": 8,
   "metadata": {
    "collapsed": false
   },
   "outputs": [
    {
     "name": "stdout",
     "output_type": "stream",
     "text": [
      "SecureRational(-0.125000)\n"
     ]
    }
   ],
   "source": [
    "def close(lhs, rhs):\n",
    "    res = abs(lhs - rhs) <= 0.001\n",
    "    if not res:\n",
    "        print(\"close: %s\" % lhs)\n",
    "        print(\"close: %s\" % rhs)\n",
    "    return res\n",
    "\n",
    "def inrange(val):\n",
    "    res = abs(val) < BASE**PRECISION_INTEGRAL\n",
    "    if not res:\n",
    "        print(\"inrange: %s\" % val)\n",
    "    return res\n",
    "\n",
    "class SecureRational(object):\n",
    "    \n",
    "    def __init__(self, secret=None):\n",
    "        if secret is None:\n",
    "            self.shares = []\n",
    "        else:\n",
    "            self.shares = share(encode(secret))\n",
    "            assert(close(secret, self.reveal()))\n",
    "            assert(inrange(self.reveal()))\n",
    "    \n",
    "    def reveal(self):\n",
    "        return decode(reconstruct(self.shares))\n",
    "    \n",
    "    def __repr__(self):\n",
    "        return \"SecureRational(%f)\" % self.reveal()\n",
    "    \n",
    "    def __add__(x, y):\n",
    "        if not isinstance(y, SecureRational):\n",
    "            y = SecureRational(y)\n",
    "        z = SecureRational()\n",
    "        z.shares = secure_add(x.shares, y.shares)\n",
    "        assert(close(z.reveal(), x.reveal() + y.reveal()))\n",
    "        assert(inrange(z.reveal()))\n",
    "        return z\n",
    "    \n",
    "    def __sub__(x, y):\n",
    "        if not isinstance(y, SecureRational):\n",
    "            y = SecureRational(y)\n",
    "        z = SecureRational()\n",
    "        z.shares = secure_sub(x.shares, y.shares)\n",
    "        assert(close(z.reveal(), x.reveal() - y.reveal()))\n",
    "        assert(inrange(z.reveal()))\n",
    "        return z\n",
    "    \n",
    "    def __mul__(x, y):\n",
    "        if not isinstance(y, SecureRational):\n",
    "            y = SecureRational(y)        \n",
    "        z = SecureRational()\n",
    "        z.shares = secure_mul(x.shares, y.shares)\n",
    "        assert(close(z.reveal(), x.reveal() * y.reveal()))\n",
    "        assert(inrange(z.reveal()))\n",
    "        return z\n",
    "    \n",
    "    def __pow__(x, e):\n",
    "        y = SecureRational(1)\n",
    "        for _ in range(e):\n",
    "            y = y * x\n",
    "        assert(close(y.reveal(), x.reveal()**e))\n",
    "        assert(inrange(y.reveal()))\n",
    "        return y\n",
    "    \n",
    "x = SecureRational(.5)\n",
    "y = SecureRational(-.25)\n",
    "z = x * y\n",
    "assert(z.reveal() == (.5) * (-.25))\n",
    "\n",
    "print(z)"
   ]
  },
  {
   "cell_type": "code",
   "execution_count": 9,
   "metadata": {
    "collapsed": false
   },
   "outputs": [
    {
     "name": "stdout",
     "output_type": "stream",
     "text": [
      "[[SecureRational(0.000665)]\n",
      " [SecureRational(0.000441)]\n",
      " [SecureRational(0.999693)]\n",
      " [SecureRational(0.999469)]]\n",
      "-2.487344\n",
      "2.487863\n"
     ]
    }
   ],
   "source": [
    "# reseed to get reproducible results\n",
    "random.seed(1)\n",
    "np.random.seed(1)\n",
    "\n",
    "# keep track of bounds of x\n",
    "MAX = 0\n",
    "MIN = 0\n",
    "def update_maxmin(x):\n",
    "    global MAX\n",
    "    global MIN\n",
    "    MAX = max(MAX, x.reveal())\n",
    "    MIN = min(MIN, x.reveal())\n",
    "    \n",
    "# define Sigmoid approximation function\n",
    "ZERO = SecureRational(0)\n",
    "ONE = SecureRational(1)\n",
    "\n",
    "def scalar_sigmoid(x):\n",
    "    update_maxmin(x)\n",
    "    return ZERO + (x**5 * .002083) - (x**3 * .020833) + (x * .25) + .5 \n",
    "\n",
    "def scalar_sigmoid_deriv(x):\n",
    "    return (ONE - x) * x\n",
    "\n",
    "sigmoid = np.vectorize(scalar_sigmoid)\n",
    "sigmoid_deriv = np.vectorize(scalar_sigmoid_deriv)\n",
    "\n",
    "# helper function to go to secure space\n",
    "secure = np.vectorize(lambda x: SecureRational(x))\n",
    "\n",
    "# training inputs\n",
    "X = secure(np.array([\n",
    "            [0,0,1],\n",
    "            [0,1,1],\n",
    "            [1,0,1],\n",
    "            [1,1,1]\n",
    "        ]))\n",
    "\n",
    "y = secure(np.array([[\n",
    "            0,\n",
    "            0,\n",
    "            1,\n",
    "            1\n",
    "        ]]).T)\n",
    "\n",
    "# initial weights \n",
    "synapse0 = secure(2 * np.random.random((3,1)) - 1)\n",
    "\n",
    "# training\n",
    "for i in range(10000):\n",
    "\n",
    "    # forward propagation\n",
    "    layer0 = X\n",
    "    layer1 = sigmoid(np.dot(layer0, synapse0))\n",
    "    \n",
    "    # back propagation\n",
    "    layer1_error = y - layer1\n",
    "    layer1_delta = layer1_error * sigmoid_deriv(layer1)\n",
    "    \n",
    "    # update\n",
    "    update = np.dot(layer0.T, layer1_delta)\n",
    "    synapse0 += update\n",
    "\n",
    "# result\n",
    "print(layer1)\n",
    "print(MIN)\n",
    "print(MAX)"
   ]
  },
  {
   "cell_type": "code",
   "execution_count": null,
   "metadata": {
    "collapsed": false
   },
   "outputs": [],
   "source": [
    "random.seed(1)\n",
    "np.random.seed(1)\n",
    "\n",
    "ZERO = SecureRational(0)\n",
    "ONE = SecureRational(1)\n",
    "\n",
    "def scalar_sigmoid(x):\n",
    "    return ZERO + (x**5 * .002083) - (x**3 * .020833) + (x * .25) + .5 \n",
    "\n",
    "def scalar_sigmoid_deriv(x):\n",
    "    return (ONE - x) * x\n",
    "\n",
    "sigmoid = np.vectorize(scalar_sigmoid)\n",
    "sigmoid_deriv = np.vectorize(scalar_sigmoid_deriv)\n",
    "secure = np.vectorize(lambda x: SecureRational(x))\n",
    "\n",
    "\n",
    "X = secure(np.array([\n",
    "            [0,0,1],\n",
    "            [0,1,1],\n",
    "            [1,0,1],\n",
    "            [1,1,1]\n",
    "        ]))\n",
    "\n",
    "y = secure(np.array([[\n",
    "            0,\n",
    "            0,\n",
    "            1,\n",
    "            1\n",
    "        ]]).T)\n",
    "\n",
    "synapse0 = secure(2 * np.random.random((3,4)) - 1)\n",
    "synapse1 = secure(2 * np.random.random((4,1)) - 1)\n",
    "\n",
    "for i in range(10000):\n",
    "    \n",
    "    # forward propagation\n",
    "    layer0 = X\n",
    "    layer1 = sigmoid(np.dot(layer0, synapse0))\n",
    "    layer2 = sigmoid(np.dot(layer1, synapse1))\n",
    "    \n",
    "    if i % 500 == 0:\n",
    "        print(i)\n",
    "    \n",
    "    # back propagation\n",
    "    layer2_error = y - layer2\n",
    "    layer2_delta = layer2_error * sigmoid_deriv(layer2)\n",
    "    layer1_error = np.dot(layer2_delta, synapse1.T)\n",
    "    layer1_delta = layer1_error * sigmoid_deriv(layer1)\n",
    "    \n",
    "    # update\n",
    "    synapse1 += np.dot(layer1.T, layer2_delta)\n",
    "    synapse0 += np.dot(layer0.T, layer1_delta)\n",
    "    \n",
    "print(layer2)"
   ]
  },
  {
   "cell_type": "code",
   "execution_count": null,
   "metadata": {
    "collapsed": false
   },
   "outputs": [],
   "source": []
  },
  {
   "cell_type": "markdown",
   "metadata": {},
   "source": [
    "Inlined Mul\n",
    "======"
   ]
  },
  {
   "cell_type": "code",
   "execution_count": null,
   "metadata": {
    "collapsed": true
   },
   "outputs": [],
   "source": [
    "def share2(secret):\n",
    "    first  = random.randrange(MODULUS)\n",
    "    second = (secret - first) % MODULUS\n",
    "    return [first, second]\n",
    "\n",
    "def secure_mul(x, y):\n",
    "    # local computation\n",
    "    v0 = (x[0]*y[0] + x[0]*y[1] + x[1]*y[0]) % MODULUS\n",
    "    v1 = (x[1]*y[1] + x[1]*y[2] + x[2]*y[1]) % MODULUS\n",
    "    v2 = (x[2]*y[2] + x[2]*y[0] + x[0]*y[2]) % MODULUS\n",
    "    # reshare and distribute (requires communication)\n",
    "    B = [ share2(v0), share2(v1), share2(v2) ]\n",
    "    c = [ sum(row) % MODULUS for row in zip(*B) ] # transpose followed by row sum\n",
    "    # generate and distribute mask (requires communication)\n",
    "    mask = random.randrange(MODULUS) // BASE**KAPPA\n",
    "    mask_top = mask // BASE**PRECISION\n",
    "    m = share3(mask_top)\n",
    "    # reconstruct and truncate masked value, then reshare and distribute (requires communication)\n",
    "    d = [ c[0] + mask, c[1] ]\n",
    "    e = share3(reconstruct(d) // BASE**PRECISION)\n",
    "    # remove mask\n",
    "    z = [ (ei - mi) % MODULUS for ei, mi in zip(e, m) ]\n",
    "    return z"
   ]
  }
 ],
 "metadata": {
  "kernelspec": {
   "display_name": "Python 3",
   "language": "python",
   "name": "python3"
  },
  "language_info": {
   "codemirror_mode": {
    "name": "ipython",
    "version": 3
   },
   "file_extension": ".py",
   "mimetype": "text/x-python",
   "name": "python",
   "nbconvert_exporter": "python",
   "pygments_lexer": "ipython3",
   "version": "3.5.0"
  }
 },
 "nbformat": 4,
 "nbformat_minor": 0
}
