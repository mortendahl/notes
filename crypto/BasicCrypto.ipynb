{
 "cells": [
  {
   "cell_type": "markdown",
   "metadata": {},
   "source": [
    "Randomness is one of the most important elements of cryptography!"
   ]
  },
  {
   "cell_type": "code",
   "execution_count": 1,
   "metadata": {
    "collapsed": true
   },
   "outputs": [],
   "source": [
    "import random"
   ]
  },
  {
   "cell_type": "markdown",
   "metadata": {},
   "source": [
    "Numbers and Modular Arithmetic\n",
    "=====\n",
    "\n",
    "We are going to need sets of numbers from which we drawn not only our *messages*, *secrets*, etc., and specifically we will consider the natural numbers below a given upper bound *p*, which, for mathematical reasons, we here fix as a [prime number](https://en.wikipedia.org/wiki/Prime_number). \n",
    "\n",
    "For simplicity we also keep it small here, but if we had a larger one it would be easy to make a mapping back and forth between these numbers and e.g. text strings."
   ]
  },
  {
   "cell_type": "code",
   "execution_count": 2,
   "metadata": {
    "collapsed": false
   },
   "outputs": [
    {
     "name": "stdout",
     "output_type": "stream",
     "text": [
      "The set of numbers is [0, 1, 2, 3, 4, 5, 6, 7, 8, 9, 10]\n"
     ]
    }
   ],
   "source": [
    "P = 11\n",
    "\n",
    "group = [ number for number in range(0, P) ]\n",
    "print(\"The set of numbers is %s\" % group)"
   ]
  },
  {
   "cell_type": "markdown",
   "metadata": {},
   "source": [
    "Now, to stay within this set of numbers when we do addition or multiplication, arithmetic works a bit differently here.\n",
    "\n",
    "Specifically, whenever we do an operation using our numbers, we have to somehow map it back to the set."
   ]
  },
  {
   "cell_type": "code",
   "execution_count": 3,
   "metadata": {
    "collapsed": false
   },
   "outputs": [
    {
     "name": "stdout",
     "output_type": "stream",
     "text": [
      " Normal addition rules gives 5 + 6 = 11\n",
      "Modular addition rules gives 5 + 6 = 0\n"
     ]
    }
   ],
   "source": [
    "a = 5\n",
    "b = 6\n",
    "\n",
    "print(\" Normal addition rules gives %d + %d = %d\" % (a, b, (a + b)))\n",
    "print(\"Modular addition rules gives %d + %d = %d\" % (a, b, (a + b) % P))"
   ]
  },
  {
   "cell_type": "code",
   "execution_count": 4,
   "metadata": {
    "collapsed": false
   },
   "outputs": [
    {
     "name": "stdout",
     "output_type": "stream",
     "text": [
      " Normal multiplication rules gives 5 * 9 = 45\n",
      "Modular multiplication rules gives 5 * 9 = 1\n"
     ]
    }
   ],
   "source": [
    "a = 5\n",
    "b = 9\n",
    "\n",
    "print(\" Normal multiplication rules gives %d * %d = %d\" % (a, b, (a * b)))\n",
    "print(\"Modular multiplication rules gives %d * %d = %d\" % (a, b, (a * b) % P))"
   ]
  },
  {
   "cell_type": "markdown",
   "metadata": {},
   "source": [
    "So while the *inverse* of 5 is 1/5 using the normal rules, when we use modular rules the inverse of 5 is 9 (when *p* = 11)!"
   ]
  },
  {
   "cell_type": "markdown",
   "metadata": {},
   "source": [
    "Symmetric Encryption: One-Time Pad\n",
    "=====\n",
    "\n",
    "As it turns out, the above knowledge is everything we need to make our first cryptographic scheme that will solve our first application: securely sending a message from a *sender* to a *receiver*! "
   ]
  },
  {
   "cell_type": "code",
   "execution_count": 5,
   "metadata": {
    "collapsed": false
   },
   "outputs": [
    {
     "name": "stdout",
     "output_type": "stream",
     "text": [
      " Messages are from [0, 1, 2, 3, 4, 5, 6, 7, 8, 9, 10]\n",
      "Randomness is from [0, 1, 2, 3, 4, 5, 6, 7, 8, 9, 10]\n"
     ]
    }
   ],
   "source": [
    "OTP_MESSAGES =   [ number for number in range(0, P) ]\n",
    "OTP_RANDOMNESS = [ number for number in range(0, P) ]\n",
    "\n",
    "print(\" Messages are from %s\" % OTP_MESSAGES)\n",
    "print(\"Randomness is from %s\" % OTP_RANDOMNESS)"
   ]
  },
  {
   "cell_type": "markdown",
   "metadata": {},
   "source": [
    "The idea is that we can mask the message by adding an independent random component *r* to it. And since it's a symmetric encryption scheme we assume that both parties know this randomness in advance -- perhaps its a value they exchanged when they last saw each other. \n",
    "\n",
    "This is known as the [one-time pad](https://en.wikipedia.org/wiki/One-time_pad)."
   ]
  },
  {
   "cell_type": "code",
   "execution_count": 6,
   "metadata": {
    "collapsed": false
   },
   "outputs": [
    {
     "name": "stdout",
     "output_type": "stream",
     "text": [
      "The encryption of 5 is 3\n",
      "The decryption of 3 is 5\n"
     ]
    }
   ],
   "source": [
    "def otp_encrypt(m, r):\n",
    "    return (m + r) % P\n",
    "\n",
    "m = 5\n",
    "r = random.choice(OTP_RANDOMNESS)\n",
    "c = otp_encrypt(m, r)\n",
    "print(\"The encryption of %d is %d\" % (m, c))\n",
    "\n",
    "def otp_decrypt(c, r):\n",
    "    return (c - r) % P\n",
    "\n",
    "n = otp_decrypt(c, r)\n",
    "assert(n == m)\n",
    "print(\"The decryption of %d is %d\" % (c, n))"
   ]
  },
  {
   "cell_type": "markdown",
   "metadata": {},
   "source": [
    "This encryption is perfect: without knowing the randomness, the ciphertext reveals *nothing* about the message! \n",
    "\n",
    "We can formalise this by saying that, after seeing the ciphertext, any guess an outsider may make about which message was encrypted can be explain by some randomness."
   ]
  },
  {
   "cell_type": "code",
   "execution_count": 7,
   "metadata": {
    "collapsed": false
   },
   "outputs": [
    {
     "name": "stdout",
     "output_type": "stream",
     "text": [
      "Message 0 can be explained by [3]\n",
      "Message 1 can be explained by [2]\n",
      "Message 2 can be explained by [1]\n",
      "Message 3 can be explained by [0]\n",
      "Message 4 can be explained by [10]\n",
      "Message 5 can be explained by [9]\n",
      "Message 6 can be explained by [8]\n",
      "Message 7 can be explained by [7]\n",
      "Message 8 can be explained by [6]\n",
      "Message 9 can be explained by [5]\n",
      "Message 10 can be explained by [4]\n"
     ]
    }
   ],
   "source": [
    "def otp_explain_one(c, m):\n",
    "    return [ r for r in OTP_RANDOMNESS if otp_encrypt(m, r) == c ]\n",
    "\n",
    "def explain_one(explainer, c):\n",
    "    for guess in OTP_MESSAGES:\n",
    "        explanations = otp_explain_one(c, guess)\n",
    "        if explanations:\n",
    "            print(\"Message %d can be explained by %s\" % (guess, explanations))\n",
    "        else:\n",
    "            print(\"Message %d cannot be explained\" % guess)\n",
    "            \n",
    "explain_one(otp_explain_one, c)"
   ]
  },
  {
   "cell_type": "markdown",
   "metadata": {},
   "source": [
    "Encrypted Addition\n",
    "-----\n",
    "\n",
    "The scheme also has some homomorphic properties, meaning we can compute on encrypted values (i.e. without decrypting). \n",
    "\n",
    "This is because `(m1 + r1) + (m2 + r2) = (m1 + m2) + (r1 + r2)`."
   ]
  },
  {
   "cell_type": "code",
   "execution_count": 8,
   "metadata": {
    "collapsed": false
   },
   "outputs": [
    {
     "name": "stdout",
     "output_type": "stream",
     "text": [
      "The decryption of 8 is 3\n"
     ]
    }
   ],
   "source": [
    "m1 = 1\n",
    "r1 = random.choice(OTP_RANDOMNESS)\n",
    "c1 = otp_encrypt(m1, r1)\n",
    "\n",
    "m2 = 2\n",
    "r2 = random.choice(OTP_RANDOMNESS)\n",
    "c2 = otp_encrypt(m2, r2)\n",
    "\n",
    "def otp_add_ciphertexts(c1, c2):\n",
    "    return (c1 + c2) % P\n",
    "\n",
    "def otp_add_randomness(r1, r2):\n",
    "    return (r1 + r2) % P\n",
    "\n",
    "c3 = otp_add_ciphertexts(c1, c2)\n",
    "r3 = otp_add_randomness(r1, r2)\n",
    "m3 = otp_decrypt(c3, r3)\n",
    "assert(m3 == m1 + m2)\n",
    "print(\"The decryption of %d is %d\" % (c3, m3))"
   ]
  },
  {
   "cell_type": "markdown",
   "metadata": {},
   "source": [
    "Randomness Reuse\n",
    "-----\n",
    "\n",
    "Above we encrypted every message with a new randomness, which both sender and receiver knew. \n",
    "\n",
    "This means that for some applications we need to have a significant amount of pre-shared data between the two parties, which might be highly impractical -- although it is said that [the red line between the US and Russian](https://en.wikipedia.org/wiki/Moscow%E2%80%93Washington_hotline#Technology) worked like this.\n",
    "\n",
    "As a result, one may wonder if we really have to use a new randomness every time."
   ]
  },
  {
   "cell_type": "code",
   "execution_count": 9,
   "metadata": {
    "collapsed": true
   },
   "outputs": [],
   "source": [
    "def otp_explain_two(c1, m1, c2, m2):\n",
    "    return [ (r1, r2) for r1 in OTP_RANDOMNESS for r2 in OTP_RANDOMNESS if otp_encrypt(m1, r1) == c1 and otp_encrypt(m2, r2) == c2 ]\n",
    "\n",
    "def explain_two(explainer, c1, c2):\n",
    "    for guess1 in OTP_MESSAGES:\n",
    "        for guess2 in OTP_MESSAGES:\n",
    "            explanations = explainer(c1, guess1, c2, guess2)\n",
    "            if explanations:\n",
    "                print(\"Messages %d,%d can be explained by %s\" % (guess1, guess2, explanations))\n",
    "            else:\n",
    "                print(\"Messages %d,%d cannot be explained\" % (guess1, guess2))"
   ]
  },
  {
   "cell_type": "markdown",
   "metadata": {},
   "source": [
    "We first test what happens if we use two independent keys."
   ]
  },
  {
   "cell_type": "code",
   "execution_count": 10,
   "metadata": {
    "collapsed": false
   },
   "outputs": [
    {
     "name": "stdout",
     "output_type": "stream",
     "text": [
      "Messages 0,0 can be explained by [(6, 7)]\n",
      "Messages 0,1 can be explained by [(6, 6)]\n",
      "Messages 0,2 can be explained by [(6, 5)]\n",
      "Messages 0,3 can be explained by [(6, 4)]\n",
      "Messages 0,4 can be explained by [(6, 3)]\n",
      "Messages 0,5 can be explained by [(6, 2)]\n",
      "Messages 0,6 can be explained by [(6, 1)]\n",
      "Messages 0,7 can be explained by [(6, 0)]\n",
      "Messages 0,8 can be explained by [(6, 10)]\n",
      "Messages 0,9 can be explained by [(6, 9)]\n",
      "Messages 0,10 can be explained by [(6, 8)]\n",
      "Messages 1,0 can be explained by [(5, 7)]\n",
      "Messages 1,1 can be explained by [(5, 6)]\n",
      "Messages 1,2 can be explained by [(5, 5)]\n",
      "Messages 1,3 can be explained by [(5, 4)]\n",
      "Messages 1,4 can be explained by [(5, 3)]\n",
      "Messages 1,5 can be explained by [(5, 2)]\n",
      "Messages 1,6 can be explained by [(5, 1)]\n",
      "Messages 1,7 can be explained by [(5, 0)]\n",
      "Messages 1,8 can be explained by [(5, 10)]\n",
      "Messages 1,9 can be explained by [(5, 9)]\n",
      "Messages 1,10 can be explained by [(5, 8)]\n",
      "Messages 2,0 can be explained by [(4, 7)]\n",
      "Messages 2,1 can be explained by [(4, 6)]\n",
      "Messages 2,2 can be explained by [(4, 5)]\n",
      "Messages 2,3 can be explained by [(4, 4)]\n",
      "Messages 2,4 can be explained by [(4, 3)]\n",
      "Messages 2,5 can be explained by [(4, 2)]\n",
      "Messages 2,6 can be explained by [(4, 1)]\n",
      "Messages 2,7 can be explained by [(4, 0)]\n",
      "Messages 2,8 can be explained by [(4, 10)]\n",
      "Messages 2,9 can be explained by [(4, 9)]\n",
      "Messages 2,10 can be explained by [(4, 8)]\n",
      "Messages 3,0 can be explained by [(3, 7)]\n",
      "Messages 3,1 can be explained by [(3, 6)]\n",
      "Messages 3,2 can be explained by [(3, 5)]\n",
      "Messages 3,3 can be explained by [(3, 4)]\n",
      "Messages 3,4 can be explained by [(3, 3)]\n",
      "Messages 3,5 can be explained by [(3, 2)]\n",
      "Messages 3,6 can be explained by [(3, 1)]\n",
      "Messages 3,7 can be explained by [(3, 0)]\n",
      "Messages 3,8 can be explained by [(3, 10)]\n",
      "Messages 3,9 can be explained by [(3, 9)]\n",
      "Messages 3,10 can be explained by [(3, 8)]\n",
      "Messages 4,0 can be explained by [(2, 7)]\n",
      "Messages 4,1 can be explained by [(2, 6)]\n",
      "Messages 4,2 can be explained by [(2, 5)]\n",
      "Messages 4,3 can be explained by [(2, 4)]\n",
      "Messages 4,4 can be explained by [(2, 3)]\n",
      "Messages 4,5 can be explained by [(2, 2)]\n",
      "Messages 4,6 can be explained by [(2, 1)]\n",
      "Messages 4,7 can be explained by [(2, 0)]\n",
      "Messages 4,8 can be explained by [(2, 10)]\n",
      "Messages 4,9 can be explained by [(2, 9)]\n",
      "Messages 4,10 can be explained by [(2, 8)]\n",
      "Messages 5,0 can be explained by [(1, 7)]\n",
      "Messages 5,1 can be explained by [(1, 6)]\n",
      "Messages 5,2 can be explained by [(1, 5)]\n",
      "Messages 5,3 can be explained by [(1, 4)]\n",
      "Messages 5,4 can be explained by [(1, 3)]\n",
      "Messages 5,5 can be explained by [(1, 2)]\n",
      "Messages 5,6 can be explained by [(1, 1)]\n",
      "Messages 5,7 can be explained by [(1, 0)]\n",
      "Messages 5,8 can be explained by [(1, 10)]\n",
      "Messages 5,9 can be explained by [(1, 9)]\n",
      "Messages 5,10 can be explained by [(1, 8)]\n",
      "Messages 6,0 can be explained by [(0, 7)]\n",
      "Messages 6,1 can be explained by [(0, 6)]\n",
      "Messages 6,2 can be explained by [(0, 5)]\n",
      "Messages 6,3 can be explained by [(0, 4)]\n",
      "Messages 6,4 can be explained by [(0, 3)]\n",
      "Messages 6,5 can be explained by [(0, 2)]\n",
      "Messages 6,6 can be explained by [(0, 1)]\n",
      "Messages 6,7 can be explained by [(0, 0)]\n",
      "Messages 6,8 can be explained by [(0, 10)]\n",
      "Messages 6,9 can be explained by [(0, 9)]\n",
      "Messages 6,10 can be explained by [(0, 8)]\n",
      "Messages 7,0 can be explained by [(10, 7)]\n",
      "Messages 7,1 can be explained by [(10, 6)]\n",
      "Messages 7,2 can be explained by [(10, 5)]\n",
      "Messages 7,3 can be explained by [(10, 4)]\n",
      "Messages 7,4 can be explained by [(10, 3)]\n",
      "Messages 7,5 can be explained by [(10, 2)]\n",
      "Messages 7,6 can be explained by [(10, 1)]\n",
      "Messages 7,7 can be explained by [(10, 0)]\n",
      "Messages 7,8 can be explained by [(10, 10)]\n",
      "Messages 7,9 can be explained by [(10, 9)]\n",
      "Messages 7,10 can be explained by [(10, 8)]\n",
      "Messages 8,0 can be explained by [(9, 7)]\n",
      "Messages 8,1 can be explained by [(9, 6)]\n",
      "Messages 8,2 can be explained by [(9, 5)]\n",
      "Messages 8,3 can be explained by [(9, 4)]\n",
      "Messages 8,4 can be explained by [(9, 3)]\n",
      "Messages 8,5 can be explained by [(9, 2)]\n",
      "Messages 8,6 can be explained by [(9, 1)]\n",
      "Messages 8,7 can be explained by [(9, 0)]\n",
      "Messages 8,8 can be explained by [(9, 10)]\n",
      "Messages 8,9 can be explained by [(9, 9)]\n",
      "Messages 8,10 can be explained by [(9, 8)]\n",
      "Messages 9,0 can be explained by [(8, 7)]\n",
      "Messages 9,1 can be explained by [(8, 6)]\n",
      "Messages 9,2 can be explained by [(8, 5)]\n",
      "Messages 9,3 can be explained by [(8, 4)]\n",
      "Messages 9,4 can be explained by [(8, 3)]\n",
      "Messages 9,5 can be explained by [(8, 2)]\n",
      "Messages 9,6 can be explained by [(8, 1)]\n",
      "Messages 9,7 can be explained by [(8, 0)]\n",
      "Messages 9,8 can be explained by [(8, 10)]\n",
      "Messages 9,9 can be explained by [(8, 9)]\n",
      "Messages 9,10 can be explained by [(8, 8)]\n",
      "Messages 10,0 can be explained by [(7, 7)]\n",
      "Messages 10,1 can be explained by [(7, 6)]\n",
      "Messages 10,2 can be explained by [(7, 5)]\n",
      "Messages 10,3 can be explained by [(7, 4)]\n",
      "Messages 10,4 can be explained by [(7, 3)]\n",
      "Messages 10,5 can be explained by [(7, 2)]\n",
      "Messages 10,6 can be explained by [(7, 1)]\n",
      "Messages 10,7 can be explained by [(7, 0)]\n",
      "Messages 10,8 can be explained by [(7, 10)]\n",
      "Messages 10,9 can be explained by [(7, 9)]\n",
      "Messages 10,10 can be explained by [(7, 8)]\n"
     ]
    }
   ],
   "source": [
    "m1 = 1\n",
    "r1 = random.choice(OTP_RANDOMNESS)\n",
    "c1 = otp_encrypt(m1, r1)\n",
    "\n",
    "m2 = 2\n",
    "r2 = random.choice(OTP_RANDOMNESS)\n",
    "c2 = otp_encrypt(m2, r2)\n",
    "            \n",
    "explainer = otp_explain_two\n",
    "explain_two(explainer, c1, c2)"
   ]
  },
  {
   "cell_type": "markdown",
   "metadata": {},
   "source": [
    "As expected, everything remains secure and every pair of messages can be explained.\n",
    "\n",
    "Next we test what happens if we instead use the same randomness twice."
   ]
  },
  {
   "cell_type": "code",
   "execution_count": 11,
   "metadata": {
    "collapsed": false
   },
   "outputs": [
    {
     "name": "stdout",
     "output_type": "stream",
     "text": [
      "Messages 0,0 cannot be explained\n",
      "Messages 0,1 can be explained by [(6, 6)]\n",
      "Messages 0,2 cannot be explained\n",
      "Messages 0,3 cannot be explained\n",
      "Messages 0,4 cannot be explained\n",
      "Messages 0,5 cannot be explained\n",
      "Messages 0,6 cannot be explained\n",
      "Messages 0,7 cannot be explained\n",
      "Messages 0,8 cannot be explained\n",
      "Messages 0,9 cannot be explained\n",
      "Messages 0,10 cannot be explained\n",
      "Messages 1,0 cannot be explained\n",
      "Messages 1,1 cannot be explained\n",
      "Messages 1,2 can be explained by [(5, 5)]\n",
      "Messages 1,3 cannot be explained\n",
      "Messages 1,4 cannot be explained\n",
      "Messages 1,5 cannot be explained\n",
      "Messages 1,6 cannot be explained\n",
      "Messages 1,7 cannot be explained\n",
      "Messages 1,8 cannot be explained\n",
      "Messages 1,9 cannot be explained\n",
      "Messages 1,10 cannot be explained\n",
      "Messages 2,0 cannot be explained\n",
      "Messages 2,1 cannot be explained\n",
      "Messages 2,2 cannot be explained\n",
      "Messages 2,3 can be explained by [(4, 4)]\n",
      "Messages 2,4 cannot be explained\n",
      "Messages 2,5 cannot be explained\n",
      "Messages 2,6 cannot be explained\n",
      "Messages 2,7 cannot be explained\n",
      "Messages 2,8 cannot be explained\n",
      "Messages 2,9 cannot be explained\n",
      "Messages 2,10 cannot be explained\n",
      "Messages 3,0 cannot be explained\n",
      "Messages 3,1 cannot be explained\n",
      "Messages 3,2 cannot be explained\n",
      "Messages 3,3 cannot be explained\n",
      "Messages 3,4 can be explained by [(3, 3)]\n",
      "Messages 3,5 cannot be explained\n",
      "Messages 3,6 cannot be explained\n",
      "Messages 3,7 cannot be explained\n",
      "Messages 3,8 cannot be explained\n",
      "Messages 3,9 cannot be explained\n",
      "Messages 3,10 cannot be explained\n",
      "Messages 4,0 cannot be explained\n",
      "Messages 4,1 cannot be explained\n",
      "Messages 4,2 cannot be explained\n",
      "Messages 4,3 cannot be explained\n",
      "Messages 4,4 cannot be explained\n",
      "Messages 4,5 can be explained by [(2, 2)]\n",
      "Messages 4,6 cannot be explained\n",
      "Messages 4,7 cannot be explained\n",
      "Messages 4,8 cannot be explained\n",
      "Messages 4,9 cannot be explained\n",
      "Messages 4,10 cannot be explained\n",
      "Messages 5,0 cannot be explained\n",
      "Messages 5,1 cannot be explained\n",
      "Messages 5,2 cannot be explained\n",
      "Messages 5,3 cannot be explained\n",
      "Messages 5,4 cannot be explained\n",
      "Messages 5,5 cannot be explained\n",
      "Messages 5,6 can be explained by [(1, 1)]\n",
      "Messages 5,7 cannot be explained\n",
      "Messages 5,8 cannot be explained\n",
      "Messages 5,9 cannot be explained\n",
      "Messages 5,10 cannot be explained\n",
      "Messages 6,0 cannot be explained\n",
      "Messages 6,1 cannot be explained\n",
      "Messages 6,2 cannot be explained\n",
      "Messages 6,3 cannot be explained\n",
      "Messages 6,4 cannot be explained\n",
      "Messages 6,5 cannot be explained\n",
      "Messages 6,6 cannot be explained\n",
      "Messages 6,7 can be explained by [(0, 0)]\n",
      "Messages 6,8 cannot be explained\n",
      "Messages 6,9 cannot be explained\n",
      "Messages 6,10 cannot be explained\n",
      "Messages 7,0 cannot be explained\n",
      "Messages 7,1 cannot be explained\n",
      "Messages 7,2 cannot be explained\n",
      "Messages 7,3 cannot be explained\n",
      "Messages 7,4 cannot be explained\n",
      "Messages 7,5 cannot be explained\n",
      "Messages 7,6 cannot be explained\n",
      "Messages 7,7 cannot be explained\n",
      "Messages 7,8 can be explained by [(10, 10)]\n",
      "Messages 7,9 cannot be explained\n",
      "Messages 7,10 cannot be explained\n",
      "Messages 8,0 cannot be explained\n",
      "Messages 8,1 cannot be explained\n",
      "Messages 8,2 cannot be explained\n",
      "Messages 8,3 cannot be explained\n",
      "Messages 8,4 cannot be explained\n",
      "Messages 8,5 cannot be explained\n",
      "Messages 8,6 cannot be explained\n",
      "Messages 8,7 cannot be explained\n",
      "Messages 8,8 cannot be explained\n",
      "Messages 8,9 can be explained by [(9, 9)]\n",
      "Messages 8,10 cannot be explained\n",
      "Messages 9,0 cannot be explained\n",
      "Messages 9,1 cannot be explained\n",
      "Messages 9,2 cannot be explained\n",
      "Messages 9,3 cannot be explained\n",
      "Messages 9,4 cannot be explained\n",
      "Messages 9,5 cannot be explained\n",
      "Messages 9,6 cannot be explained\n",
      "Messages 9,7 cannot be explained\n",
      "Messages 9,8 cannot be explained\n",
      "Messages 9,9 cannot be explained\n",
      "Messages 9,10 can be explained by [(8, 8)]\n",
      "Messages 10,0 can be explained by [(7, 7)]\n",
      "Messages 10,1 cannot be explained\n",
      "Messages 10,2 cannot be explained\n",
      "Messages 10,3 cannot be explained\n",
      "Messages 10,4 cannot be explained\n",
      "Messages 10,5 cannot be explained\n",
      "Messages 10,6 cannot be explained\n",
      "Messages 10,7 cannot be explained\n",
      "Messages 10,8 cannot be explained\n",
      "Messages 10,9 cannot be explained\n",
      "Messages 10,10 cannot be explained\n"
     ]
    }
   ],
   "source": [
    "r = random.choice(OTP_RANDOMNESS)\n",
    "\n",
    "m1 = 1\n",
    "r1 = r\n",
    "c1 = otp_encrypt(m1, r1)\n",
    "\n",
    "m2 = 2\n",
    "r2 = r\n",
    "c2 = otp_encrypt(m2, r2)\n",
    "\n",
    "explainer = lambda *x: [ rs for rs in otp_explain_two(*x) if rs[0] == rs[1] ]\n",
    "explain_two(explainer, c1, c2)"
   ]
  },
  {
   "cell_type": "markdown",
   "metadata": {},
   "source": [
    "Here we see that knowing one of the messages tells us everything about the other! Formally, we see that most message pairs can no longer be explained.\n",
    "\n",
    "We conclude that in this scheme randomness can never be reused, and hence we are stuck with the problem of the two parties having a large amount of pre-shared data."
   ]
  },
  {
   "cell_type": "markdown",
   "metadata": {},
   "source": [
    "Discrete Logarithm and Decisional Diffie-Hellman\n",
    "=====\n",
    "\n",
    "Our next scheme can not only deal with the limitations of randomness reuse we saw above, it also has some other interesting properties. \n",
    "\n",
    "However, we have to switch from the perfect security we got above, where no amount of computation could ever break the scheme, to security only against \"efficient\" adversaries. Concretely, we introduce what is known as a [hardness assumption](https://en.wikipedia.org/wiki/Computational_hardness_assumption) which assumes that there are some mathematical problems that will take too long to solve, even on the most powerful of computers.\n",
    "\n",
    "For this we need a bit more number theory. Specifically, we need to talk about a [generator](https://en.wikipedia.org/wiki/Generating_set_of_a_group) *g* and the fact that we can express the numbers in our domain in more than one way: like \"raw\" numbers as above, and as *exponents of a generator* as done here."
   ]
  },
  {
   "cell_type": "code",
   "execution_count": 12,
   "metadata": {
    "collapsed": false
   },
   "outputs": [
    {
     "name": "stdout",
     "output_type": "stream",
     "text": [
      " The exponents are [0, 1, 2, 3, 4, 5, 6, 7, 8, 9, 10, 11, 12, 13, 14, 15, 16, 17, 18, 19, 20, 21]\n",
      "so raising G gives [1, 6, 3, 7, 9, 10, 5, 8, 4, 2, 1, 6, 3, 7, 9, 10, 5, 8, 4, 2, 1, 6]\n",
      " - which sorted is [1, 1, 1, 2, 2, 3, 3, 4, 4, 5, 5, 6, 6, 6, 7, 7, 8, 8, 9, 9, 10, 10]\n"
     ]
    }
   ],
   "source": [
    "G = 6\n",
    "\n",
    "exponents = [ number for number in range(2*P) ]\n",
    "subgroup =  [ G**x % P for x in exponents ]\n",
    "print(\" The exponents are %s\" % exponents)\n",
    "print(\"so raising G gives %s\" % subgroup)\n",
    "print(\" - which sorted is %s\" % sorted(subgroup))"
   ]
  },
  {
   "cell_type": "markdown",
   "metadata": {},
   "source": [
    "We see that `g**0 = g**(p-1)`, `g**1 = g**p`, etc. is repeating forever. Hence, we only need to consider the exponents from *0* to *q = p-1*. This gives us a new subgroup consisting of everything from the previous group, except 0."
   ]
  },
  {
   "cell_type": "code",
   "execution_count": 13,
   "metadata": {
    "collapsed": false
   },
   "outputs": [
    {
     "name": "stdout",
     "output_type": "stream",
     "text": [
      " The exponents are [0, 1, 2, 3, 4, 5, 6, 7, 8, 9]\n",
      "so raising G gives [1, 6, 3, 7, 9, 10, 5, 8, 4, 2]\n",
      " - which sorted is [1, 2, 3, 4, 5, 6, 7, 8, 9, 10]\n"
     ]
    }
   ],
   "source": [
    "Q = P - 1\n",
    "\n",
    "exponents = [ number for number in range(Q) ]\n",
    "subgroup =  [ G**x % P for x in exponents ]\n",
    "print(\" The exponents are %s\" % exponents)\n",
    "print(\"so raising G gives %s\" % subgroup)\n",
    "print(\" - which sorted is %s\" % sorted(subgroup))"
   ]
  },
  {
   "cell_type": "markdown",
   "metadata": {},
   "source": [
    "Now the point is that it's **easy** to go from `x` to `g**x` but it is assumed **hard** to go the other way from `g**x` to `x`! This is the [discrete log (DL) assumption](https://en.wikipedia.org/wiki/Discrete_logarithm) since it's saying that computing the function `x = log(y)` such that `g**x = y` is hard.\n",
    "\n",
    "Moreover, the [decisional Diffie-Hellman (DDH) assumption](https://en.wikipedia.org/wiki/Decisional_Diffie%E2%80%93Hellman_assumption) says that such an exponentiation looks indepedent, if the exponent is independent and unknown. More formally, it is hard to tell the difference between `(g**a, (g**a)**b)` and `(g**a, g**c)` for random and independent *a*, *b*, and *c*. \n",
    "\n",
    "Intuitively, this means that we again have something that looks random for outsiders, which is what we need to do encryption! However, that fact that we now have a bit more structure can be used to solve the issue from the one-time pad.\n",
    "\n",
    "I'm cheating a bit here by the way."
   ]
  },
  {
   "cell_type": "markdown",
   "metadata": {},
   "source": [
    "Symmetric Encryption: ElGamal\n",
    "=====\n",
    "\n",
    "The [ElGamal scheme](https://en.wikipedia.org/wiki/ElGamal_encryption) is doing exactly this. \n",
    "\n",
    "The idea is that the sender now simply pick a fresh a randomness on his own -- i.e. that the receiver *doesn't* know -- and sends it along together with the ciphertext. Of course this only works if the randomness is somehow protected against outsiders.\n",
    "\n",
    "As such, a secret key known by only the sender and the receiver is used to protect the randomness. But unlike the case for the one-time pad, this key can be reused several times!"
   ]
  },
  {
   "cell_type": "code",
   "execution_count": 14,
   "metadata": {
    "collapsed": false
   },
   "outputs": [
    {
     "name": "stdout",
     "output_type": "stream",
     "text": [
      " Messages are from [1, 2, 3, 4, 5, 6, 7, 8, 9, 10]\n",
      "Randomness is from [0, 1, 2, 3, 4, 5, 6, 7, 8, 9]\n",
      "     Keys are from [0, 1, 2, 3, 4, 5, 6, 7, 8, 9]\n"
     ]
    }
   ],
   "source": [
    "SYMELGAMAL_MESSAGES =   [ G**exponent % P for exponent in range(Q) ]\n",
    "SYMELGAMAL_RANDOMNESS = [ number for number in range(Q) ]\n",
    "SYMELGAMAL_KEYS =       [ number for number in range(Q) ]\n",
    "\n",
    "print(\" Messages are from %s\" % sorted(SYMELGAMAL_MESSAGES))\n",
    "print(\"Randomness is from %s\" % SYMELGAMAL_RANDOMNESS)\n",
    "print(\"     Keys are from %s\" % SYMELGAMAL_KEYS)"
   ]
  },
  {
   "cell_type": "markdown",
   "metadata": {},
   "source": [
    "Specifically, we assume that the sender and the receiver knows a key *k*. The sender will then pick a randomness *r*, protect it by computing `g**r`, and mask the message using `(g**r)**k`. \n",
    "\n",
    "Using the DL assumption it is hard to extract *r* from `g**r`, and using the DDH assumption it is hard to tell the difference between `(g**r)**k` and something completely random. \n",
    "\n",
    "Hence, under these assumptions we essentially have a \"one-time\" pad where the sender can pick the randomness, and send it protected along with the ciphertext.\n",
    "\n",
    "To decrypt, the receiver simply uses his knowledge of *k* to compute an unmask value `(g**r)**(-k)`, which gives `(g**r)**(-k) * (g**r)**k * m` that may be rewritten to `g**(-rk) * g**(rk) * m`, then `g**(-rk + rk) * m`, then `g**0 * m`, and finally `1 * m = m`."
   ]
  },
  {
   "cell_type": "code",
   "execution_count": 15,
   "metadata": {
    "collapsed": false
   },
   "outputs": [
    {
     "name": "stdout",
     "output_type": "stream",
     "text": [
      "The secret key is 8\n",
      "The encryption of 5 is (8, 3)\n",
      "The decryption of (8, 3) is 5\n"
     ]
    }
   ],
   "source": [
    "def symelgamal_encrypt(m, r, k):\n",
    "    onetimekey = G**r % P\n",
    "    mask = onetimekey**k % P\n",
    "    masked_message = (mask * m) % P\n",
    "    return (onetimekey, masked_message)\n",
    "\n",
    "k = random.choice(SYMELGAMAL_KEYS)\n",
    "print(\"The secret key is %d\" % k)\n",
    "\n",
    "m = 5\n",
    "r = random.choice(SYMELGAMAL_RANDOMNESS)\n",
    "c = symelgamal_encrypt(m, r, k)\n",
    "print(\"The encryption of %d is %s\" % (m, c))\n",
    "\n",
    "def symelgamal_decrypt(c, k):\n",
    "    onetimekey, masked_message = c\n",
    "    inverse_mask = onetimekey**(Q - k) % P\n",
    "    return (masked_message * inverse_mask) % P\n",
    "\n",
    "n = symelgamal_decrypt(c, k)\n",
    "assert(n == m)\n",
    "print(\"The decryption of %s is %d\" % (c, n))"
   ]
  },
  {
   "cell_type": "markdown",
   "metadata": {},
   "source": [
    "Encrypted Multiplication\n",
    "-----\n",
    "\n",
    "This scheme also has an homomorphic property, but now allowing multiplications of the messages instead of addition."
   ]
  },
  {
   "cell_type": "code",
   "execution_count": 18,
   "metadata": {
    "collapsed": false
   },
   "outputs": [
    {
     "name": "stdout",
     "output_type": "stream",
     "text": [
      "The secret key is 3\n",
      "The encryption of 2 is (7, 4)\n",
      "The encryption of 3 is (3, 4)\n",
      "The decryption of (10, 5) is 6\n"
     ]
    }
   ],
   "source": [
    "k = random.choice(SYMELGAMAL_KEYS)\n",
    "print(\"The secret key is %d\" % k)\n",
    "\n",
    "m1 = 2\n",
    "r1 = random.choice(SYMELGAMAL_RANDOMNESS)\n",
    "c1 = symelgamal_encrypt(m1, r1, k)\n",
    "print(\"The encryption of %d is %s\" % (m1, c1))\n",
    "\n",
    "m2 = 3\n",
    "r2 = random.choice(SYMELGAMAL_RANDOMNESS)\n",
    "c2 = symelgamal_encrypt(m2, r2, k)\n",
    "print(\"The encryption of %d is %s\" % (m2, c2))\n",
    "\n",
    "def symelgamal_mul(c1, c2):\n",
    "    c1_mask, c1_message = c1\n",
    "    c2_mask, c2_message = c2\n",
    "    return ((c1_mask * c2_mask) % P, (c1_message * c2_message) % P)\n",
    "\n",
    "c3 = symelgamal_mul(c1, c2)\n",
    "m3 = symelgamal_decrypt(c3, k)\n",
    "assert(m3 == m1 * m2)\n",
    "print(\"The decryption of %s is %d\" % (c3, m3))"
   ]
  },
  {
   "cell_type": "markdown",
   "metadata": {},
   "source": [
    "Asymmetric Encryption: The Real ElGamal\n",
    "=====\n",
    "\n",
    "It's a basic fact that `(g**a)**b` is exactly the same number as `(g**b)**a` -- they are both `g**(ab)`!\n",
    "\n",
    "So note that in `symelgamal_encrypt`, when the sender computes the mask as `(g**r)**k` he could in fact just as well have computed this as `(g**k)**r`. But, this change means that we might as well simply give him `g**k` instead of asking him to compute it, in which case he doesn't need to know *k*. \n",
    "\n",
    "And since the DDH assumption actually says that it is hard to tell the difference between `(g**a, g**b, (g**a)**b)` and `(g**a, g**b, g**c)` then we can extend ElGamal to an asymmetric encryption scheme!\n",
    "\n",
    "For this, the receiver first picks a **private key** *k* and then computes a **public key** as `h = g**k`. When the sender wants to send a message he uses *h* as explained above, and by the DL assumption no-one can extract *k* from *h*, and by the DDH assumption the mask when computed like this looks completely random.\n",
    "\n",
    "As for application, we still have a sender that wishes to send a message to a receiver, but now they no longer need to have a shared secret key! They just need that the receiver has published a public key to an online \"phone book\" (or [PKI](https://en.wikipedia.org/wiki/Public_key_infrastructure))."
   ]
  },
  {
   "cell_type": "code",
   "execution_count": 19,
   "metadata": {
    "collapsed": false
   },
   "outputs": [
    {
     "name": "stdout",
     "output_type": "stream",
     "text": [
      " Messages are from [1, 2, 3, 4, 5, 6, 7, 8, 9, 10]\n",
      "Randomness is from [0, 1, 2, 3, 4, 5, 6, 7, 8, 9]\n",
      "     Keys are from [0, 1, 2, 3, 4, 5, 6, 7, 8, 9]\n"
     ]
    }
   ],
   "source": [
    "ASYMELGAMAL_MESSAGES =   [ G**exponent % P for exponent in range(Q) ]\n",
    "ASYMELGAMAL_RANDOMNESS = [ number for number in range(Q) ]\n",
    "ASYMELGAMAL_KEYS =       [ number for number in range(Q) ]\n",
    "\n",
    "print(\" Messages are from %s\" % sorted(ASYMELGAMAL_MESSAGES))\n",
    "print(\"Randomness is from %s\" % ASYMELGAMAL_RANDOMNESS)\n",
    "print(\"     Keys are from %s\" % ASYMELGAMAL_KEYS)"
   ]
  },
  {
   "cell_type": "code",
   "execution_count": 20,
   "metadata": {
    "collapsed": false
   },
   "outputs": [
    {
     "name": "stdout",
     "output_type": "stream",
     "text": [
      "The private key is 4\n",
      "The public key is 9\n",
      "The encryption of 5 is (2, 3)\n",
      "The decryption of (2, 3) is 5\n"
     ]
    }
   ],
   "source": [
    "k = random.choice(ASYMELGAMAL_KEYS)\n",
    "h = G**k % P\n",
    "print(\"The private key is %d\" % k)\n",
    "print(\"The public key is %d\" % h)\n",
    "\n",
    "def asymelgamal_encrypt(m, r, h):\n",
    "    onetimekey = G**r % P\n",
    "    mask = h**r % P\n",
    "    masked_message = (mask * m) % P\n",
    "    return (onetimekey, masked_message)\n",
    "\n",
    "m = 5\n",
    "r = random.choice(ASYMELGAMAL_RANDOMNESS)\n",
    "c = asymelgamal_encrypt(m, r, h)\n",
    "print(\"The encryption of %d is %s\" % (m, c))\n",
    "\n",
    "def asymelgamal_decrypt(c, k):\n",
    "    onetimekey, masked_message = c\n",
    "    inverse_mask = onetimekey**(Q - k) % P\n",
    "    return (masked_message * inverse_mask) % P\n",
    "\n",
    "n = asymelgamal_decrypt(c, k)\n",
    "assert(n == m)\n",
    "print(\"The decryption of %s is %d\" % (c, n))"
   ]
  },
  {
   "cell_type": "markdown",
   "metadata": {},
   "source": [
    "Encrypted Multiplication\n",
    "------\n",
    "\n",
    "Nothing has changed for the ciphertexts, so we still have the homomorphic property."
   ]
  },
  {
   "cell_type": "code",
   "execution_count": 21,
   "metadata": {
    "collapsed": false
   },
   "outputs": [
    {
     "name": "stdout",
     "output_type": "stream",
     "text": [
      "The private key is 6\n",
      "The public key is 5\n",
      "The encryption of 2 is (1, 2)\n",
      "The encryption of 3 is (4, 1)\n",
      "The decryption of (4, 2) is 6\n"
     ]
    }
   ],
   "source": [
    "k = random.choice(ASYMELGAMAL_KEYS)\n",
    "h = G**k % P\n",
    "print(\"The private key is %d\" % k)\n",
    "print(\"The public key is %d\" % h)\n",
    "\n",
    "m1 = 2\n",
    "r1 = random.choice(ASYMELGAMAL_RANDOMNESS)\n",
    "c1 = asymelgamal_encrypt(m1, r1, h)\n",
    "print(\"The encryption of %d is %s\" % (m1, c1))\n",
    "\n",
    "m2 = 3\n",
    "r2 = random.choice(ASYMELGAMAL_RANDOMNESS)\n",
    "c2 = asymelgamal_encrypt(m2, r2, h)\n",
    "print(\"The encryption of %d is %s\" % (m2, c2))\n",
    "\n",
    "def asymelgamal_mul(c1, c2):\n",
    "    c1_mask, c1_message = c1\n",
    "    c2_mask, c2_message = c2\n",
    "    return ((c1_mask * c2_mask) % P, (c1_message * c2_message) % P)\n",
    "\n",
    "c3 = asymelgamal_mul(c1, c2)\n",
    "m3 = asymelgamal_decrypt(c3, k)\n",
    "assert(m3 == m1 * m2)\n",
    "print(\"The decryption of %s is %d\" % (c3, m3))"
   ]
  },
  {
   "cell_type": "markdown",
   "metadata": {},
   "source": [
    "Key Exchange\n",
    "=====\n",
    "\n",
    "Above we considered schemes for hiding messages when sent across an insecure channel such as the internet. However, encrypting a long message using the ElGamal scheme can be very slow, and in practice a [hybrid scheme](https://en.wikipedia.org/wiki/Hybrid_cryptosystem) mixing a symmetric scheme with something else is often used.\n",
    "\n",
    "This \"something else\" could in principle be an asymmetric scheme: Alice picks a fresh key for the symmetric scheme and encrypts her message using it, and then encrypts the key using Bob's public key and sends it along. This would work, but would mean that if Bob's public key is ever broken the adversary will be able to all of a sudden decrypt all messages sent to him (see [forward security](https://en.wikipedia.org/wiki/Forward_secrecy))."
   ]
  },
  {
   "cell_type": "code",
   "execution_count": 22,
   "metadata": {
    "collapsed": false
   },
   "outputs": [
    {
     "name": "stdout",
     "output_type": "stream",
     "text": [
      "Randomness is from [0, 1, 2, 3, 4, 5, 6, 7, 8, 9]\n",
      "     Keys are from [1, 2, 3, 4, 5, 6, 7, 8, 9, 10]\n"
     ]
    }
   ],
   "source": [
    "DH_RANDOMNESS = [ number for number in range(Q) ]\n",
    "DH_KEYS =       [ G**r % P for r in DH_RANDOMNESS ]\n",
    "\n",
    "print(\"Randomness is from %s\" % DH_RANDOMNESS)\n",
    "print(\"     Keys are from %s\" % sorted(DH_KEYS))"
   ]
  },
  {
   "cell_type": "markdown",
   "metadata": {},
   "source": [
    "An alternative comes from the [Diffie-Hellman key exchange scheme](https://en.wikipedia.org/wiki/Diffie%E2%80%93Hellman_key_exchange) that can also be based on the DDH assumption. Here, Alice and Bob can generate a shared secret in such a way that the outsider cannot read it, and without ever sending it across the channel!"
   ]
  },
  {
   "cell_type": "code",
   "execution_count": 23,
   "metadata": {
    "collapsed": false
   },
   "outputs": [
    {
     "name": "stdout",
     "output_type": "stream",
     "text": [
      "Alice sends 5\n",
      "Bob sends 8\n",
      "Alice computes 3 as her shared secret key\n",
      "  Bob computes 3 as his shared secret key\n"
     ]
    }
   ],
   "source": [
    "a = random.choice(DH_RANDOMNESS)\n",
    "ga = G**a % P\n",
    "print(\"Alice sends %d\" % ga)\n",
    "\n",
    "b = random.choice(DH_RANDOMNESS)\n",
    "gb = G**b % P\n",
    "print(\"Bob sends %d\" % gb)\n",
    "\n",
    "key_a = gb**a % P\n",
    "print(\"Alice computes %d as her shared secret key\" % key_a)\n",
    "\n",
    "key_b = ga**b % P\n",
    "print(\"  Bob computes %d as his shared secret key\" % key_b)\n",
    "\n",
    "assert(key_a == key_b)"
   ]
  },
  {
   "cell_type": "markdown",
   "metadata": {},
   "source": [
    "We see that the secret key is never sent in any message but just appears out of thin air!"
   ]
  },
  {
   "cell_type": "markdown",
   "metadata": {},
   "source": [
    "Identification\n",
    "=====\n",
    "\n",
    "Our final application is that of proving without revealing!\n",
    "\n",
    "One concrete application is identification, e.g. proving to a server that you are who you claim to be. Another is to prove that we know the message inside an ElGamal encryption.\n",
    "\n",
    "Schemes for proving statements without revealing anything about the witnesses are called [zero-knowledge proof of knowledge](https://en.wikipedia.org/wiki/Zero-knowledge_proof#Discrete_log_of_a_given_value) protocols.\n",
    "\n",
    "A simple way of doing this is as follows, again using the DL assumption."
   ]
  },
  {
   "cell_type": "code",
   "execution_count": 27,
   "metadata": {
    "collapsed": false
   },
   "outputs": [
    {
     "name": "stdout",
     "output_type": "stream",
     "text": [
      "   Secrets are from [0, 1, 2, 3, 4, 5, 6, 7, 8, 9]\n",
      "Statements are from [1, 2, 3, 4, 5, 6, 7, 8, 9, 10]\n",
      "Challenges are from [0, 1]\n"
     ]
    }
   ],
   "source": [
    "ZK_SECRETS =    [ number for number in range(Q) ]\n",
    "ZK_STATEMENTS = [ G**r % P for r in ZK_SECRETS ]\n",
    "ZK_CHALLENGES = [ 0, 1 ]\n",
    "print(\"   Secrets are from %s\" % ZK_SECRETS)\n",
    "print(\"Statements are from %s\" % sorted(ZK_STATEMENTS))\n",
    "print(\"Challenges are from %s\" % ZK_CHALLENGES)"
   ]
  },
  {
   "cell_type": "markdown",
   "metadata": {},
   "source": [
    "We assume that a *prover* knows a secret *x* and has published a statement *y* as his public identity. \n",
    "\n",
    "For someone to prove that he's the rightful owner of the identity he needs to prove that he knows a matching *x* such that `y = log(x)`, which by the DL assumption is hard to do unless he already knows *x*."
   ]
  },
  {
   "cell_type": "code",
   "execution_count": 28,
   "metadata": {
    "collapsed": false
   },
   "outputs": [
    {
     "name": "stdout",
     "output_type": "stream",
     "text": [
      "Prover announces 8 as his public identity\n"
     ]
    }
   ],
   "source": [
    "x = random.choice(ZK_SECRETS)\n",
    "y = G**x % P\n",
    "print(\"Prover announces %d as his public identity\" % y)"
   ]
  },
  {
   "cell_type": "markdown",
   "metadata": {},
   "source": [
    "To later prove that he knows *x*, they both execute the following protocol a number of times; if the verifier ever rejects, the overall decision is to reject."
   ]
  },
  {
   "cell_type": "code",
   "execution_count": 29,
   "metadata": {
    "collapsed": false
   },
   "outputs": [
    {
     "name": "stdout",
     "output_type": "stream",
     "text": [
      "Round 0\n",
      "  Prover sends 7 to the verifier as a commitment\n",
      "  Verifier sends 0 to the prover as a challenge\n",
      "  Prover sends 3 to the verifier as an answer\n",
      "  Verifier accepts\n",
      "Round 1\n",
      "  Prover sends 5 to the verifier as a commitment\n",
      "  Verifier sends 1 to the prover as a challenge\n",
      "  Prover sends 3 to the verifier as an answer\n",
      "  Verifier accepts\n",
      "Round 2\n",
      "  Prover sends 8 to the verifier as a commitment\n",
      "  Verifier sends 0 to the prover as a challenge\n",
      "  Prover sends 7 to the verifier as an answer\n",
      "  Verifier accepts\n",
      "Round 3\n",
      "  Prover sends 5 to the verifier as a commitment\n",
      "  Verifier sends 0 to the prover as a challenge\n",
      "  Prover sends 6 to the verifier as an answer\n",
      "  Verifier accepts\n",
      "Round 4\n",
      "  Prover sends 3 to the verifier as a commitment\n",
      "  Verifier sends 0 to the prover as a challenge\n",
      "  Prover sends 2 to the verifier as an answer\n",
      "  Verifier accepts\n",
      "Round 5\n",
      "  Prover sends 1 to the verifier as a commitment\n",
      "  Verifier sends 0 to the prover as a challenge\n",
      "  Prover sends 0 to the verifier as an answer\n",
      "  Verifier accepts\n",
      "Round 6\n",
      "  Prover sends 5 to the verifier as a commitment\n",
      "  Verifier sends 0 to the prover as a challenge\n",
      "  Prover sends 6 to the verifier as an answer\n",
      "  Verifier accepts\n",
      "Round 7\n",
      "  Prover sends 8 to the verifier as a commitment\n",
      "  Verifier sends 0 to the prover as a challenge\n",
      "  Prover sends 7 to the verifier as an answer\n",
      "  Verifier accepts\n",
      "Round 8\n",
      "  Prover sends 6 to the verifier as a commitment\n",
      "  Verifier sends 0 to the prover as a challenge\n",
      "  Prover sends 1 to the verifier as an answer\n",
      "  Verifier accepts\n",
      "Round 9\n",
      "  Prover sends 2 to the verifier as a commitment\n",
      "  Verifier sends 1 to the prover as a challenge\n",
      "  Prover sends 6 to the verifier as an answer\n",
      "  Verifier accepts\n"
     ]
    }
   ],
   "source": [
    "for i in range(10):\n",
    "    \n",
    "    print(\"Round %d\" % i)\n",
    "    \n",
    "    r = random.choice(ZK_SECRETS)\n",
    "    t = G**r % P\n",
    "    print(\"  Prover sends %d to the verifier as a commitment\" % t)\n",
    "\n",
    "    c = random.choice(ZK_CHALLENGES)\n",
    "    print(\"  Verifier sends %d to the prover as a challenge\" % c)\n",
    "\n",
    "    s = (r + c*x) % Q\n",
    "    print(\"  Prover sends %d to the verifier as an answer\" % s)\n",
    "\n",
    "    b = (G**s) % P == t*(y**c) % P \n",
    "    if b:\n",
    "        print(\"  Verifier accepts\")\n",
    "    else:\n",
    "        print(\"  Verifier rejects\")\n",
    "        assert(False)"
   ]
  },
  {
   "cell_type": "markdown",
   "metadata": {},
   "source": [
    "Note that any prover who can answer correctly to both *c = 0* and *c = 1* must know a correct *x*:\n",
    "- an accepting *c=0* execution means a *s0* such that `g**s0 == t`\n",
    "- an accepting *c=1* execution means a *s1* such that `g**s1 == t * y`\n",
    "\n",
    "Dividing the latter by the former we get `g**(s1-s0) == y` so `x = s1-s0` is a correct discrete log for *y*."
   ]
  },
  {
   "cell_type": "code",
   "execution_count": null,
   "metadata": {
    "collapsed": true
   },
   "outputs": [],
   "source": []
  }
 ],
 "metadata": {
  "kernelspec": {
   "display_name": "Python 3",
   "language": "python",
   "name": "python3"
  },
  "language_info": {
   "codemirror_mode": {
    "name": "ipython",
    "version": 3
   },
   "file_extension": ".py",
   "mimetype": "text/x-python",
   "name": "python",
   "nbconvert_exporter": "python",
   "pygments_lexer": "ipython3",
   "version": "3.5.0"
  }
 },
 "nbformat": 4,
 "nbformat_minor": 0
}
